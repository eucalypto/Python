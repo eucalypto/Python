{
 "cells": [
  {
   "cell_type": "code",
   "execution_count": 1,
   "metadata": {
    "collapsed": true,
    "pycharm": {
     "is_executing": false
    }
   },
   "outputs": [],
   "source": [
    "# map"
   ]
  },
  {
   "cell_type": "code",
   "execution_count": 2,
   "outputs": [
    {
     "data": {
      "text/plain": "13.4"
     },
     "metadata": {},
     "output_type": "execute_result",
     "execution_count": 2
    }
   ],
   "source": [
    "weight_of_dogs = [13.4, 234, 23, 2135, 25]\n",
    "weight_of_dogs2 = [234, 24, 3, 25, 15]\n",
    "min(weight_of_dogs)"
   ],
   "metadata": {
    "collapsed": false,
    "pycharm": {
     "name": "#%%\n",
     "is_executing": false
    }
   }
  },
  {
   "cell_type": "code",
   "execution_count": 4,
   "outputs": [],
   "source": [
    "what_do_we_get = map(min, weight_of_dogs, weight_of_dogs2)"
   ],
   "metadata": {
    "collapsed": false,
    "pycharm": {
     "name": "#%%\n",
     "is_executing": false
    }
   }
  },
  {
   "cell_type": "code",
   "execution_count": 5,
   "outputs": [
    {
     "name": "stdout",
     "text": [
      "13.4\n24\n3\n25\n15\n"
     ],
     "output_type": "stream"
    }
   ],
   "source": [
    "for i in what_do_we_get:\n",
    "    print(i)"
   ],
   "metadata": {
    "collapsed": false,
    "pycharm": {
     "name": "#%%\n",
     "is_executing": false
    }
   }
  },
  {
   "cell_type": "code",
   "execution_count": 6,
   "outputs": [
    {
     "data": {
      "text/plain": "map"
     },
     "metadata": {},
     "output_type": "execute_result",
     "execution_count": 6
    }
   ],
   "source": [
    "type(what_do_we_get)"
   ],
   "metadata": {
    "collapsed": false,
    "pycharm": {
     "name": "#%%\n",
     "is_executing": false
    }
   }
  },
  {
   "cell_type": "code",
   "execution_count": 7,
   "outputs": [
    {
     "data": {
      "text/plain": "map"
     },
     "metadata": {},
     "output_type": "execute_result",
     "execution_count": 7
    }
   ],
   "source": [
    "what_do_we_get."
   ],
   "metadata": {
    "collapsed": false,
    "pycharm": {
     "name": "#%%\n",
     "is_executing": false
    }
   }
  },
  {
   "cell_type": "code",
   "execution_count": 11,
   "outputs": [
    {
     "traceback": [
      "\u001b[0;31m---------------------------------------------------------------------------\u001b[0m",
      "\u001b[0;31mTypeError\u001b[0m                                 Traceback (most recent call last)",
      "\u001b[0;32m<ipython-input-11-55d6fa0095cb>\u001b[0m in \u001b[0;36m<module>\u001b[0;34m\u001b[0m\n\u001b[1;32m      1\u001b[0m \u001b[0mstr\u001b[0m \u001b[0;34m=\u001b[0m \u001b[0;34m\"Hello\"\u001b[0m\u001b[0;34m\u001b[0m\u001b[0;34m\u001b[0m\u001b[0m\n\u001b[0;32m----> 2\u001b[0;31m \u001b[0mstr\u001b[0m\u001b[0;34m.\u001b[0m\u001b[0msplit\u001b[0m\u001b[0;34m(\u001b[0m\u001b[0;34m)\u001b[0m\u001b[0;34m[\u001b[0m\u001b[0;36m1\u001b[0m\u001b[0;34m,\u001b[0m\u001b[0;36m2\u001b[0m\u001b[0;34m]\u001b[0m\u001b[0;34m\u001b[0m\u001b[0;34m\u001b[0m\u001b[0m\n\u001b[0m\u001b[1;32m      3\u001b[0m \u001b[0;34m\u001b[0m\u001b[0m\n\u001b[1;32m      4\u001b[0m \u001b[0;34m\u001b[0m\u001b[0m\n",
      "\u001b[0;31mTypeError\u001b[0m: list indices must be integers or slices, not tuple"
     ],
     "ename": "TypeError",
     "evalue": "list indices must be integers or slices, not tuple",
     "output_type": "error"
    }
   ],
   "source": [
    "str = \"Hello\"\n",
    "str.split()[1,2]\n"
   ],
   "metadata": {
    "collapsed": false,
    "pycharm": {
     "name": "#%%\n",
     "is_executing": false
    }
   }
  },
  {
   "cell_type": "code",
   "execution_count": 38,
   "outputs": [
    {
     "data": {
      "text/plain": "['Kent', 'Wayne', 'Parker', 'Stark']"
     },
     "metadata": {},
     "output_type": "execute_result",
     "execution_count": 38
    }
   ],
   "source": [
    "superheroes = [\"Clark Kent\", \"Bruce Wayne\", \"Peter Parker\", \"Tony Stark\"]\n",
    "\n",
    "def get_last_name(name):\n",
    "    split = name.split()\n",
    "    return split[-1]\n",
    "\n",
    "def re_arrange_name(name):\n",
    "    split = name.split()\n",
    "    return f\"{split[-1]}, {split[0]}\"\n",
    "\n",
    "def bondify(name):\n",
    "    name_parts = name.split()\n",
    "    return f\"Hello, my name is {name_parts[-1]}, {name_parts[0]} {name_parts[-1]}.\"\n",
    "\n",
    "list(map(get_last_name, superheroes))"
   ],
   "metadata": {
    "collapsed": false,
    "pycharm": {
     "name": "#%%\n",
     "is_executing": false
    }
   }
  },
  {
   "cell_type": "code",
   "execution_count": 39,
   "outputs": [
    {
     "data": {
      "text/plain": "['Kent, Clark', 'Wayne, Bruce', 'Parker, Peter', 'Stark, Tony']"
     },
     "metadata": {},
     "output_type": "execute_result",
     "execution_count": 39
    }
   ],
   "source": [
    "list(map(re_arrange_name, superheroes))"
   ],
   "metadata": {
    "collapsed": false,
    "pycharm": {
     "name": "#%%\n",
     "is_executing": false
    }
   }
  },
  {
   "cell_type": "code",
   "execution_count": 40,
   "outputs": [
    {
     "data": {
      "text/plain": "['Hello, my name is Kent, Clark Kent.',\n 'Hello, my name is Wayne, Bruce Wayne.',\n 'Hello, my name is Parker, Peter Parker.',\n 'Hello, my name is Stark, Tony Stark.']"
     },
     "metadata": {},
     "output_type": "execute_result",
     "execution_count": 40
    }
   ],
   "source": [
    "list(map(bondify, superheroes))"
   ],
   "metadata": {
    "collapsed": false,
    "pycharm": {
     "name": "#%%\n",
     "is_executing": false
    }
   }
  },
  {
   "cell_type": "code",
   "execution_count": 41,
   "outputs": [
    {
     "data": {
      "text/plain": "'Wayne'"
     },
     "metadata": {},
     "output_type": "execute_result",
     "execution_count": 41
    }
   ],
   "source": [
    "get_last_name_lambda = lambda name : name.split()[-1]\n",
    "get_last_name_lambda(\"John Wayne\")"
   ],
   "metadata": {
    "collapsed": false,
    "pycharm": {
     "name": "#%%\n",
     "is_executing": false
    }
   }
  },
  {
   "cell_type": "code",
   "execution_count": 42,
   "outputs": [
    {
     "data": {
      "text/plain": "['Kent', 'Wayne', 'Parker', 'Stark']"
     },
     "metadata": {},
     "output_type": "execute_result",
     "execution_count": 42
    }
   ],
   "source": [
    "list(map(lambda name: name.split()[-1], superheroes))"
   ],
   "metadata": {
    "collapsed": false,
    "pycharm": {
     "name": "#%%\n",
     "is_executing": false
    }
   }
  },
  {
   "cell_type": "code",
   "execution_count": 44,
   "outputs": [
    {
     "data": {
      "text/plain": "[0, 7, 14, 21, 28, 35, 42, 49, 56, 63, 70, 77, 84, 91, 98]"
     },
     "metadata": {},
     "output_type": "execute_result",
     "execution_count": 44
    }
   ],
   "source": [
    "divisible_by_7 = []\n",
    "for number in range(0, 100):\n",
    "    if number % 7 == 0:\n",
    "        divisible_by_7.append(number)\n",
    "        \n",
    "divisible_by_7"
   ],
   "metadata": {
    "collapsed": false,
    "pycharm": {
     "name": "#%%\n",
     "is_executing": false
    }
   }
  },
  {
   "cell_type": "code",
   "execution_count": 45,
   "outputs": [
    {
     "data": {
      "text/plain": "[0, 7, 14, 21, 28, 35, 42, 49, 56, 63, 70, 77, 84, 91, 98]"
     },
     "metadata": {},
     "output_type": "execute_result",
     "execution_count": 45
    }
   ],
   "source": [
    "divisible_by_7 = [number for number in range(0,100) if number % 7 == 0]\n",
    "divisible_by_7\n"
   ],
   "metadata": {
    "collapsed": false,
    "pycharm": {
     "name": "#%%\n",
     "is_executing": false
    }
   }
  },
  {
   "cell_type": "code",
   "execution_count": 51,
   "outputs": [
    {
     "data": {
      "text/plain": "[0,\n 0,\n 0,\n 0,\n 0,\n 0,\n 0,\n 1,\n 2,\n 3,\n 4,\n 5,\n 0,\n 2,\n 4,\n 6,\n 8,\n 10,\n 0,\n 3,\n 6,\n 9,\n 12,\n 15,\n 0,\n 4,\n 8,\n 12,\n 16,\n 20]"
     },
     "metadata": {},
     "output_type": "execute_result",
     "execution_count": 51
    }
   ],
   "source": [
    "[i*j for i in range(5) for j in range(6)]"
   ],
   "metadata": {
    "collapsed": false,
    "pycharm": {
     "name": "#%%\n",
     "is_executing": false
    }
   }
  },
  {
   "cell_type": "code",
   "execution_count": 53,
   "outputs": [
    {
     "data": {
      "text/plain": "['a0',\n 'a1',\n 'a2',\n 'a3',\n 'a4',\n 'a5',\n 'a6',\n 'a7',\n 'a8',\n 'a9',\n 'b0',\n 'b1',\n 'b2',\n 'b3',\n 'b4',\n 'b5',\n 'b6',\n 'b7',\n 'b8',\n 'b9',\n 'c0',\n 'c1',\n 'c2',\n 'c3',\n 'c4',\n 'c5',\n 'c6',\n 'c7',\n 'c8',\n 'c9',\n 'd0',\n 'd1',\n 'd2',\n 'd3',\n 'd4',\n 'd5',\n 'd6',\n 'd7',\n 'd8',\n 'd9',\n 'e0',\n 'e1',\n 'e2',\n 'e3',\n 'e4',\n 'e5',\n 'e6',\n 'e7',\n 'e8',\n 'e9',\n 'f0',\n 'f1',\n 'f2',\n 'f3',\n 'f4',\n 'f5',\n 'f6',\n 'f7',\n 'f8',\n 'f9',\n 'g0',\n 'g1',\n 'g2',\n 'g3',\n 'g4',\n 'g5',\n 'g6',\n 'g7',\n 'g8',\n 'g9',\n 'h0',\n 'h1',\n 'h2',\n 'h3',\n 'h4',\n 'h5',\n 'h6',\n 'h7',\n 'h8',\n 'h9',\n 'i0',\n 'i1',\n 'i2',\n 'i3',\n 'i4',\n 'i5',\n 'i6',\n 'i7',\n 'i8',\n 'i9',\n 'j0',\n 'j1',\n 'j2',\n 'j3',\n 'j4',\n 'j5',\n 'j6',\n 'j7',\n 'j8',\n 'j9',\n 'k0',\n 'k1',\n 'k2',\n 'k3',\n 'k4',\n 'k5',\n 'k6',\n 'k7',\n 'k8',\n 'k9',\n 'l0',\n 'l1',\n 'l2',\n 'l3',\n 'l4',\n 'l5',\n 'l6',\n 'l7',\n 'l8',\n 'l9',\n 'm0',\n 'm1',\n 'm2',\n 'm3',\n 'm4',\n 'm5',\n 'm6',\n 'm7',\n 'm8',\n 'm9',\n 'n0',\n 'n1',\n 'n2',\n 'n3',\n 'n4',\n 'n5',\n 'n6',\n 'n7',\n 'n8',\n 'n9',\n 'o0',\n 'o1',\n 'o2',\n 'o3',\n 'o4',\n 'o5',\n 'o6',\n 'o7',\n 'o8',\n 'o9',\n 'p0',\n 'p1',\n 'p2',\n 'p3',\n 'p4',\n 'p5',\n 'p6',\n 'p7',\n 'p8',\n 'p9',\n 'q0',\n 'q1',\n 'q2',\n 'q3',\n 'q4',\n 'q5',\n 'q6',\n 'q7',\n 'q8',\n 'q9',\n 'r0',\n 'r1',\n 'r2',\n 'r3',\n 'r4',\n 'r5',\n 'r6',\n 'r7',\n 'r8',\n 'r9',\n 's0',\n 's1',\n 's2',\n 's3',\n 's4',\n 's5',\n 's6',\n 's7',\n 's8',\n 's9',\n 't0',\n 't1',\n 't2',\n 't3',\n 't4',\n 't5',\n 't6',\n 't7',\n 't8',\n 't9',\n 'u0',\n 'u1',\n 'u2',\n 'u3',\n 'u4',\n 'u5',\n 'u6',\n 'u7',\n 'u8',\n 'u9',\n 'v0',\n 'v1',\n 'v2',\n 'v3',\n 'v4',\n 'v5',\n 'v6',\n 'v7',\n 'v8',\n 'v9',\n 'w0',\n 'w1',\n 'w2',\n 'w3',\n 'w4',\n 'w5',\n 'w6',\n 'w7',\n 'w8',\n 'w9',\n 'x0',\n 'x1',\n 'x2',\n 'x3',\n 'x4',\n 'x5',\n 'x6',\n 'x7',\n 'x8',\n 'x9',\n 'y0',\n 'y1',\n 'y2',\n 'y3',\n 'y4',\n 'y5',\n 'y6',\n 'y7',\n 'y8',\n 'y9',\n 'z0',\n 'z1',\n 'z2',\n 'z3',\n 'z4',\n 'z5',\n 'z6',\n 'z7',\n 'z8',\n 'z9']"
     },
     "metadata": {},
     "output_type": "execute_result",
     "execution_count": 53
    }
   ],
   "source": [
    "characters = \"abcdefghijklmnopqrstuvwxyz\"\n",
    "digits = \"0123456789\"\n",
    "\n",
    "combos = [ch + num for ch in characters for num in digits]\n",
    "combos"
   ],
   "metadata": {
    "collapsed": false,
    "pycharm": {
     "name": "#%%\n",
     "is_executing": false
    }
   }
  },
  {
   "cell_type": "code",
   "execution_count": null,
   "outputs": [],
   "source": [
    "\n"
   ],
   "metadata": {
    "collapsed": false,
    "pycharm": {
     "name": "#%%\n"
    }
   }
  }
 ],
 "metadata": {
  "language_info": {
   "codemirror_mode": {
    "name": "ipython",
    "version": 2
   },
   "file_extension": ".py",
   "mimetype": "text/x-python",
   "name": "python",
   "nbconvert_exporter": "python",
   "pygments_lexer": "ipython2",
   "version": "2.7.6"
  },
  "kernelspec": {
   "name": "python3",
   "language": "python",
   "display_name": "Python 3"
  },
  "pycharm": {
   "stem_cell": {
    "cell_type": "raw",
    "source": [],
    "metadata": {
     "collapsed": false
    }
   }
  }
 },
 "nbformat": 4,
 "nbformat_minor": 0
}